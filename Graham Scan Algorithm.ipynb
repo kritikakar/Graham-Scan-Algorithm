{
 "cells": [
  {
   "cell_type": "markdown",
   "metadata": {},
   "source": [
    "(Part of coursework for introduction to mathematical computing in which a prompt was given and we were expected to write our own code)"
   ]
  },
  {
   "cell_type": "markdown",
   "metadata": {},
   "source": [
    "Create, from scratch, your own version of the Graham scan algorithm for computing the convex hull. Your code should be in the form of a function `get_hull(points)` which takes as argument a $2\\times N$ array of point coordinate pairs $(x,y)$ and returns the subset of those points which would make up the vertices of the convex hull.\n",
    "    \n",
    "The function should be tested by the following\n",
    "    \n",
    "```python\n",
    "points = np.random.rand(2,N)\n",
    "hull = get_hull(points)\n",
    "\n",
    "plt.plot(points[0,:],points[1,:],'.')\n",
    "plt.plot(np.append(hull[0,:],hull[0,0]),np.append(hull[1,:],hull[1,0])) \n",
    "    # append is used to close the hull\n",
    "plt.show()    \n",
    "```\n",
    "    \n",
    "and will be tested against several different arrays of points for grading. Marks out of 10 including 3 marks for good programming practise (e.g. use of comments, functions, readability etc).\n",
    "    \n",
    "Note, as described in the video, your hull must begin with the point with lowest $y$ coordinate. Your function should take a $2\\times N$ `numpy` array as input and return a $2\\times M$ `numpy` array, where $M$ is the size of the hull.\n",
    "    \n",
    "Credit will be awarded via the following tests:\n",
    "    \n",
    "* The returned variable (`hull` above) is of the correct `type` (same as `points` above).\n",
    "* The returned array has the correct size and shape.\n",
    "* The trivial hull of 3 points is returned.\n",
    "* The correct subset of points is recovered for any N."
   ]
  },
  {
   "cell_type": "code",
   "execution_count": 1,
   "metadata": {},
   "outputs": [],
   "source": [
    "import numpy as np\n",
    "\n",
    "import math\n",
    "\n",
    "import matplotlib.pyplot as plt\n",
    "\n",
    "# creating a function to return the index order with respect to inverse gradients in ascending order\n",
    "\n",
    "def inv_grad(points):\n",
    "    \n",
    "    # returning the index of the lowest y coordinate and thus setting the origin index\n",
    "    \n",
    "    origin = int(np.argmin(points[1, :]))\n",
    "    \n",
    "    # calculating the inverse gradient of the points  \n",
    "    \n",
    "    inv_grad = np.zeros(len(points[0, :]), dtype = float)\n",
    "    \n",
    "    for i in range(0, len(points[0, :])):\n",
    "        if (i != origin):\n",
    "            inv_grad[i] = (points[0, origin] - points[0, i])/(points[1, origin] - points[1, i])\n",
    "        if (i == origin):\n",
    "            inv_grad[i] = -math.inf\n",
    "            \n",
    "    # sorting these from smallest to largest     \n",
    "    \n",
    "    index_order = np.argsort(inv_grad)\n",
    "    \n",
    "    return(index_order)\n",
    "\n",
    "# creating a function to return the cross product of 3 points\n",
    "    \n",
    "def cross_product(x1, x2, x3):\n",
    "    cross_product = (x2[0]- x1[0])*(x3[1] - x1[1]) - (x2[1] - x1[1])*(x3[0] - x1[0])\n",
    "    \n",
    "    return(cross_product)\n",
    "                        \n",
    "def get_hull(points):\n",
    "    \n",
    "    # reordering the points and creating an array with the ordered points\n",
    "    \n",
    "    order = inv_grad(points)\n",
    "    \n",
    "    ordered_points = points.copy()\n",
    "    \n",
    "    for i in range(0, len(points[0, :])):\n",
    "        ordered_points[0][i] = points[0][order[i]]\n",
    "        ordered_points[1][i] = points[1][order[i]]\n",
    "        \n",
    "    # creating array for the hull, with the first two points\n",
    "    \n",
    "    hull = np.array(ordered_points[:, 0:2])\n",
    "    \n",
    "    # creating a loop to add all the ordered points starting from the third point\n",
    "    \n",
    "    for i in range(2, len(ordered_points[0, :])):\n",
    "        \n",
    "        hull = np.insert(hull, len(hull[0, :]), 0, axis = 1)\n",
    "        \n",
    "        hull[0][-1] = ordered_points[0][i]\n",
    "        hull[1][-1] = ordered_points[1][i]\n",
    "        \n",
    "        # setting the coordinates using the last three points of hull\n",
    "        \n",
    "        x1 = [hull[0][-1], hull[1][-1]]\n",
    "        x2 = [hull[0][-2], hull[1][-2]]\n",
    "        x3 = [hull[0][-3], hull[1][-3]]\n",
    "        \n",
    "        # creating a loop to remove penultimate point if cross product is zero\n",
    "        \n",
    "        while cross_product(x1, x2, x3) < 0 and len(hull[0])>3: \n",
    "            \n",
    "            hull = np.delete(hull, [-2], axis = 1)\n",
    "            \n",
    "            x1 = [hull[0][-1], hull[1][-1]]\n",
    "            x2 = [hull[0][-2], hull[1][-2]]\n",
    "            x3 = [hull[0][-3], hull[1][-3]]        \n",
    "         \n",
    "    return(hull)\n"
   ]
  },
  {
   "cell_type": "code",
   "execution_count": 2,
   "metadata": {},
   "outputs": [
    {
     "data": {
      "image/png": "[encoded data removed]",
      "text/plain": [
       "<Figure size 640x480 with 1 Axes>"
      ]
     },
     "metadata": {},
     "output_type": "display_data"
    }
   ],
   "source": [
    "import matplotlib.pyplot as plt\n",
    "N = 50\n",
    "points = np.random.rand(2,N)\n",
    "hull = get_hull(points)\n",
    "\n",
    "plt.plot(points[0,:],points[1,:],'.')\n",
    "plt.plot(np.append(hull[0,:],hull[0,0]),np.append(hull[1,:],hull[1,0])) \n",
    "    # append is used to close the hull\n",
    "plt.show()    \n"
   ]
  }
 ],
 "metadata": {
  "kernelspec": {
   "display_name": "Python 3",
   "language": "python",
   "name": "python3"
  },
  "language_info": {
   "codemirror_mode": {
    "name": "ipython",
    "version": 3
   },
   "file_extension": ".py",
   "mimetype": "text/x-python",
   "name": "python",
   "nbconvert_exporter": "python",
   "pygments_lexer": "ipython3",
   "version": "3.11.8"
  }
 },
 "nbformat": 4,
 "nbformat_minor": 2
}
